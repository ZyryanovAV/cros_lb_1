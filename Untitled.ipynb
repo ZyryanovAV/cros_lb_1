{
 "cells": [
  {
   "cell_type": "markdown",
   "metadata": {},
   "source": [
    "# Индивидуальное задание"
   ]
  },
  {
   "cell_type": "markdown",
   "metadata": {},
   "source": [
    "## Условие задачи:"
   ]
  },
  {
   "cell_type": "markdown",
   "metadata": {},
   "source": [
    "До какой температуры нагревается нихромовая электрогрелка, если известно, что ток, проходящий через обмотку в момент ее включения (t1=20∘ C), в 1,05 раза превышает рабочий ток?"
   ]
  },
  {
   "cell_type": "markdown",
   "metadata": {},
   "source": [
    "## Дано:"
   ]
  },
  {
   "cell_type": "markdown",
   "metadata": {},
   "source": [
    "$t_1 = 20^{\\circ}$\n",
    "$I_1 = 1.05I_2$\n",
    "$t_2 = ?$\n",
    "$\\alpha = 0.0002 {1\\over{C{\\circ}}}$"
   ]
  },
  {
   "cell_type": "markdown",
   "metadata": {},
   "source": [
    "## Решение задачи:"
   ]
  },
  {
   "cell_type": "markdown",
   "metadata": {},
   "source": [
    "По условию ток, проходящий через обмотку в момент ее включения, в 1,05 раза превышает рабочий ток ($I_1 = 1.05I_2$), поэтому:\n",
    "${R_2\\over R_2} = 1.05)$"
   ]
  },
  {
   "cell_type": "markdown",
   "metadata": {},
   "source": [
    "Известно, что зависимость сопротивления проводника от температуры описывается следующей формулой: $R = R_0(1 + \\alpha * t)$\n"
   ]
  },
  {
   "cell_type": "markdown",
   "metadata": {},
   "source": [
    "Выведем формулу для $t_2$:\n",
    "$t_2 = {R_2\\over R_1} * ({1\\over \\alpha} + t_1) - {1\\over \\alpha}$"
   ]
  },
  {
   "cell_type": "code",
   "execution_count": 36,
   "metadata": {},
   "outputs": [
    {
     "name": "stdout",
     "output_type": "stream",
     "text": [
      "Ответ:544 Кельвинов\n"
     ]
    }
   ],
   "source": [
    "t_2 = round((1.05 * (1 / 0.0002 + 20) - 1/0.0002)+273)\n",
    "\n",
    "print(f\"Ответ:{t_2} Кельвинов\")"
   ]
  }
 ],
 "metadata": {
  "kernelspec": {
   "display_name": "Python 3",
   "language": "python",
   "name": "python3"
  },
  "language_info": {
   "codemirror_mode": {
    "name": "ipython",
    "version": 3
   },
   "file_extension": ".py",
   "mimetype": "text/x-python",
   "name": "python",
   "nbconvert_exporter": "python",
   "pygments_lexer": "ipython3",
   "version": "3.8.3"
  }
 },
 "nbformat": 4,
 "nbformat_minor": 4
}
